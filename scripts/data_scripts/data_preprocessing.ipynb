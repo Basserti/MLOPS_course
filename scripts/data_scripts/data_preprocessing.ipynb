{
 "cells": [
  {
   "cell_type": "code",
   "execution_count": 1,
   "id": "747358c3-a8e1-4505-8f8f-537f9843336f",
   "metadata": {},
   "outputs": [],
   "source": [
    "import pandas as pd\n",
    "import numpy as np\n",
    "import seaborn as sns\n",
    "import matplotlib.pyplot as plt"
   ]
  },
  {
   "cell_type": "code",
   "execution_count": 2,
   "id": "68184c80-20ed-4e8f-a53c-302cbdce8942",
   "metadata": {},
   "outputs": [],
   "source": [
    "df_train = pd.read_csv('../../data/raw/train.csv')\n",
    "df_test = pd.read_csv('../../data/raw/test.csv')\n",
    "df_macro = pd.read_csv('../../data/raw/macro.csv')\n",
    "df_all = data = pd.concat([df_train, df_test]).reset_index(drop=True)"
   ]
  },
  {
   "cell_type": "code",
   "execution_count": 3,
   "id": "21cd9481-7ec6-4afb-9a37-33ca34b3e9e5",
   "metadata": {},
   "outputs": [],
   "source": [
    "df_macro = df_macro[df_macro.timestamp.isin(df_all.timestamp.unique())]"
   ]
  },
  {
   "cell_type": "code",
   "execution_count": 4,
   "id": "3c887b53-5ede-4409-8099-6054e8a257d0",
   "metadata": {},
   "outputs": [],
   "source": [
    "df_train.timestamp = pd.to_datetime(df_train.timestamp)\n",
    "df_test.timestamp = pd.to_datetime(df_test.timestamp)\n",
    "df_macro.timestamp = pd.to_datetime(df_macro.timestamp)"
   ]
  },
  {
   "cell_type": "code",
   "execution_count": 5,
   "id": "0d89b995-93d4-4912-837d-4d792588cfe2",
   "metadata": {},
   "outputs": [
    {
     "data": {
      "text/html": [
       "<div>\n",
       "<style scoped>\n",
       "    .dataframe tbody tr th:only-of-type {\n",
       "        vertical-align: middle;\n",
       "    }\n",
       "\n",
       "    .dataframe tbody tr th {\n",
       "        vertical-align: top;\n",
       "    }\n",
       "\n",
       "    .dataframe thead th {\n",
       "        text-align: right;\n",
       "    }\n",
       "</style>\n",
       "<table border=\"1\" class=\"dataframe\">\n",
       "  <thead>\n",
       "    <tr style=\"text-align: right;\">\n",
       "      <th></th>\n",
       "      <th>id</th>\n",
       "      <th>timestamp</th>\n",
       "      <th>full_sq</th>\n",
       "      <th>life_sq</th>\n",
       "      <th>floor</th>\n",
       "      <th>state</th>\n",
       "      <th>max_floor</th>\n",
       "      <th>material</th>\n",
       "      <th>build_year</th>\n",
       "      <th>num_room</th>\n",
       "      <th>kitch_sq</th>\n",
       "      <th>full_all</th>\n",
       "      <th>sub_area</th>\n",
       "      <th>price_doc</th>\n",
       "    </tr>\n",
       "  </thead>\n",
       "  <tbody>\n",
       "    <tr>\n",
       "      <th>2913</th>\n",
       "      <td>22469</td>\n",
       "      <td>2014-09-12</td>\n",
       "      <td>29</td>\n",
       "      <td>NaN</td>\n",
       "      <td>2.0</td>\n",
       "      <td>NaN</td>\n",
       "      <td>10.0</td>\n",
       "      <td>1.0</td>\n",
       "      <td>o</td>\n",
       "      <td>1.0</td>\n",
       "      <td>1.0</td>\n",
       "      <td>2942</td>\n",
       "      <td>Poselenie Filimonkovskoe</td>\n",
       "      <td>2205352</td>\n",
       "    </tr>\n",
       "  </tbody>\n",
       "</table>\n",
       "</div>"
      ],
      "text/plain": [
       "         id  timestamp  full_sq  life_sq  floor  state  max_floor  material  \\\n",
       "2913  22469 2014-09-12       29      NaN    2.0    NaN       10.0       1.0   \n",
       "\n",
       "     build_year  num_room  kitch_sq  full_all                  sub_area  \\\n",
       "2913          o       1.0       1.0      2942  Poselenie Filimonkovskoe   \n",
       "\n",
       "      price_doc  \n",
       "2913    2205352  "
      ]
     },
     "execution_count": 5,
     "metadata": {},
     "output_type": "execute_result"
    }
   ],
   "source": [
    "nums = '0|1|2|3|4|5|6|7|8|9'\n",
    "df_train[df_train.build_year.str.contains(nums) == False]"
   ]
  },
  {
   "cell_type": "code",
   "execution_count": 6,
   "id": "04b77609-a326-49a9-9de6-ffdf907f0b6e",
   "metadata": {},
   "outputs": [],
   "source": [
    "df_train.loc[df_train.build_year.str.contains(nums) == False,'build_year'] = 0"
   ]
  },
  {
   "cell_type": "code",
   "execution_count": 7,
   "id": "cd557ef9-9ab8-4ee9-9aa0-f0b35b5e37ec",
   "metadata": {},
   "outputs": [],
   "source": [
    "df_train.build_year = pd.to_numeric(df_train.build_year)\n",
    "df_test.build_year = pd.to_numeric(df_test.build_year)"
   ]
  },
  {
   "cell_type": "code",
   "execution_count": 8,
   "id": "5b50f5f2-2ba1-4afd-9114-e0d9e0beade0",
   "metadata": {},
   "outputs": [
    {
     "name": "stdout",
     "output_type": "stream",
     "text": [
      "<class 'pandas.core.frame.DataFrame'>\n",
      "RangeIndex: 15092 entries, 0 to 15091\n",
      "Data columns (total 14 columns):\n",
      " #   Column      Non-Null Count  Dtype         \n",
      "---  ------      --------------  -----         \n",
      " 0   id          15092 non-null  int64         \n",
      " 1   timestamp   15092 non-null  datetime64[ns]\n",
      " 2   full_sq     15092 non-null  int64         \n",
      " 3   life_sq     13828 non-null  float64       \n",
      " 4   floor       15069 non-null  float64       \n",
      " 5   state       12366 non-null  float64       \n",
      " 6   max_floor   13938 non-null  float64       \n",
      " 7   material    13938 non-null  float64       \n",
      " 8   build_year  13475 non-null  float64       \n",
      " 9   num_room    13938 non-null  float64       \n",
      " 10  kitch_sq    13938 non-null  float64       \n",
      " 11  full_all    15092 non-null  int64         \n",
      " 12  sub_area    15092 non-null  object        \n",
      " 13  price_doc   15092 non-null  int64         \n",
      "dtypes: datetime64[ns](1), float64(8), int64(4), object(1)\n",
      "memory usage: 1.6+ MB\n"
     ]
    }
   ],
   "source": [
    "df_train.info()"
   ]
  },
  {
   "cell_type": "code",
   "execution_count": 9,
   "id": "e9f7b428-4766-4d5b-b0cb-d8aa9498f21b",
   "metadata": {},
   "outputs": [],
   "source": [
    "df_train.loc[df_train['build_year'] == 71, 'build_year'] = 1971\n",
    "df_train.loc[df_train['build_year'] == 215, 'build_year'] = 2015\n",
    "df_train.loc[df_train['build_year'] == 20, 'build_year'] = 2000\n",
    "df_train.loc[df_train['build_year'] == 20052009, 'build_year'] = 2009\n",
    "df_test.loc[df_test['build_year'] >= 2023, 'build_year'] = 1965\n",
    "df_train.loc[df_train['build_year'] == 3, 'build_year'] = 2003\n",
    "df_test.loc[df_test['build_year'] == 3, 'build_year'] = 2003"
   ]
  },
  {
   "cell_type": "code",
   "execution_count": 10,
   "id": "15ef5c1a-ef63-46ad-bf00-c47c0a68cc56",
   "metadata": {},
   "outputs": [],
   "source": [
    "df_train.drop(df_train[(df_train.index == 339)].index, inplace=True)\n",
    "df_train.loc[(df_train.sub_area == 'Ochakovo-Matveevskoe') &\n",
    "             (df_train.build_year == 0),'build_year'] = 2008 \n",
    "df_train.loc[(df_train.sub_area == 'Ochakovo-Matveevskoe') &\n",
    "             (df_train.build_year == 1),'build_year'] = round(df_train[(df_train.sub_area == 'Ochakovo-Matveevskoe') &\n",
    "             (df_train.material == 1)].build_year.mean(),0)"
   ]
  },
  {
   "cell_type": "code",
   "execution_count": 11,
   "id": "7be0ae16-6458-4322-b534-626b97c5b884",
   "metadata": {},
   "outputs": [],
   "source": [
    "df_train.loc[(df_train.sub_area == 'Poselenie Novofedorovskoe') &\n",
    "             ((df_train.build_year == 1) | (df_train.build_year == 0)) \n",
    "             & ((df_train.kitch_sq == 1) | (df_train.kitch_sq == 0)), 'build_year'] = round(df_train[(df_train.sub_area == 'Poselenie Novofedorovskoe') &\n",
    "             ((df_train.kitch_sq == 1) | (df_train.kitch_sq == 0))&\n",
    "             (df_train.build_year > 10)].build_year.mean(),0)\n",
    "df_train.loc[(df_train.sub_area == 'Poselenie Novofedorovskoe') &\n",
    "             (df_train.build_year == 0), 'build_year'] = round(df_train[(df_train.sub_area == 'Poselenie Novofedorovskoe') &\n",
    "             (df_train.material == 6)&\n",
    "             (df_train.build_year != 0)].build_year.mean(),0)\n",
    "df_test.loc[(df_test.sub_area == 'Poselenie Novofedorovskoe') &\n",
    "             ((df_test.build_year < 10)) \n",
    "             & ((df_test.kitch_sq == 10)|(df_test.kitch_sq == 1)),'build_year'] = round(df_train[(df_train.sub_area == 'Poselenie Novofedorovskoe') &\n",
    "             ((df_train.kitch_sq == 10)|(df_train.kitch_sq == 1))&\n",
    "             (df_train.build_year > 0)].build_year.mean(),0)"
   ]
  },
  {
   "cell_type": "code",
   "execution_count": 12,
   "id": "ab2c13e2-a6f8-4916-a863-047ffd808098",
   "metadata": {},
   "outputs": [],
   "source": [
    "df_train.loc[(df_train.sub_area == 'Tverskoe') &\n",
    "             ((df_train.build_year < 10)) \n",
    "             & ((df_train.kitch_sq == 1) | (df_train.kitch_sq == 0)  | \n",
    "              (df_train.kitch_sq == 10)), 'build_year'] = round(df_train[(df_train.sub_area == 'Tverskoe') &\n",
    "             ((df_train.kitch_sq == 1) | (df_train.kitch_sq == 0))&\n",
    "             (df_train.build_year > 10)].build_year.mean(),0)\n",
    "df_test.loc[(df_test.sub_area == 'Tverskoe') &\n",
    "             ((df_test.build_year < 10)) \n",
    "             & ((df_test.kitch_sq == 1) | (df_test.kitch_sq == 0)\n",
    "               ), 'build_year'] = round(df_train[(df_train.sub_area == 'Tverskoe') &\n",
    "             ((df_train.kitch_sq == 1) | (df_train.kitch_sq == 0))&\n",
    "             (df_train.build_year > 10)].build_year.mean(),0) "
   ]
  },
  {
   "cell_type": "code",
   "execution_count": 13,
   "id": "185e9802-287d-42c4-99b9-cd33ae662a01",
   "metadata": {},
   "outputs": [],
   "source": [
    "df_train.loc[(df_train.sub_area == 'Veshnjaki') &\n",
    "             ((df_train.kitch_sq == 6) | (df_train.kitch_sq == 0))&\n",
    "             (df_train.build_year < 10), 'build_year'] = round(df_train[(df_train.sub_area == 'Veshnjaki') &\n",
    "             ((df_train.kitch_sq == 6) | (df_train.kitch_sq == 0))&\n",
    "             (df_train.build_year > 10)].build_year.mean(),0)\n",
    "df_test.loc[(df_test.sub_area == 'Veshnjaki') &\n",
    "             ((df_test.kitch_sq == 0))&\n",
    "             (df_test.build_year < 10), 'build_year'] = round(df_train[(df_train.sub_area == 'Veshnjaki') &\n",
    "             ((df_train.kitch_sq == 0))].build_year.mean(),0)"
   ]
  },
  {
   "cell_type": "code",
   "execution_count": 14,
   "id": "52274d66-d6f1-4a09-8498-3ebb9edcdfa8",
   "metadata": {},
   "outputs": [],
   "source": [
    "df_train.loc[(df_train.sub_area == 'Poselenie Filimonkovskoe') &\n",
    "             ((df_train.kitch_sq == 1) | (df_train.kitch_sq == 0))&\n",
    "             (df_train.build_year < 10), 'build_year'] = round(df_train[(df_train.sub_area == 'Poselenie Filimonkovskoe') &\n",
    "             ((df_train.kitch_sq == 1) | (df_train.kitch_sq == 0))&\n",
    "             (df_train.build_year > 10)].build_year.mean(),0)\n",
    "df_test.loc[(df_test.sub_area == 'Poselenie Filimonkovskoe') &\n",
    "             ((df_test.kitch_sq == 1) | (df_test.kitch_sq == 0))&\n",
    "             (df_test.build_year < 10), 'build_year'] = round(df_train[(df_train.sub_area == 'Poselenie Filimonkovskoe') &\n",
    "             ((df_train.kitch_sq == 1) | (df_train.kitch_sq == 0))&\n",
    "             (df_train.build_year > 10)].build_year.mean(),0)"
   ]
  },
  {
   "cell_type": "code",
   "execution_count": 15,
   "id": "d9b7e3aa-cb0a-43ac-af4a-4383f5a01144",
   "metadata": {},
   "outputs": [],
   "source": [
    "df_train.loc[(df_train.sub_area == 'Poselenie Shherbinka') &\n",
    "             ((df_train.kitch_sq == 1) | (df_train.kitch_sq == 0))&\n",
    "             (df_train.build_year < 10), 'build_year'] = round(df_train[(df_train.sub_area == 'Poselenie Shherbinka') &\n",
    "             ((df_train.kitch_sq == 1) | (df_train.kitch_sq == 0))&\n",
    "             (df_train.build_year > 10)].build_year.mean(),0)\n",
    "df_train.loc[(df_train.sub_area == 'Poselenie Shherbinka') &\n",
    "             ((df_train.kitch_sq == 10) )&\n",
    "             (df_train.build_year < 10), 'build_year'] = round(df_train[(df_train.sub_area == 'Poselenie Shherbinka') &\n",
    "             ((df_train.kitch_sq == 10))&\n",
    "             (df_train.build_year > 10)].build_year.mean(),0)\n",
    "df_test.loc[(df_test.sub_area == 'Poselenie Shherbinka') &\n",
    "             ((df_test.kitch_sq == 1)| (df_test.kitch_sq == 0))&\n",
    "             (df_test.build_year < 10), 'build_year'] = round(df_train[(df_train.sub_area == 'Poselenie Shherbinka') &\n",
    "             ((df_train.kitch_sq == 1)| (df_train.kitch_sq == 0))].build_year.mean(),0)\n",
    "df_test.loc[(df_test.sub_area == 'Poselenie Shherbinka') &\n",
    "             ((df_test.kitch_sq == 9))&\n",
    "             (df_test.build_year < 10), 'build_year'] = round(df_train[(df_train.sub_area == 'Poselenie Shherbinka') &\n",
    "             ((df_train.kitch_sq == 9))].build_year.mean(),0)\n",
    "\n"
   ]
  },
  {
   "cell_type": "code",
   "execution_count": 16,
   "id": "f5187fea-2671-467d-a4df-a57f37d521c4",
   "metadata": {},
   "outputs": [],
   "source": [
    "df_train.loc[(df_train.sub_area == 'Poselenie Pervomajskoe') &\n",
    "             ((df_train.kitch_sq == 1) | (df_train.kitch_sq == 0))&\n",
    "             (df_train.build_year < 10), 'build_year'] = round(df_train[(df_train.sub_area == 'Poselenie Pervomajskoe') &\n",
    "             ((df_train.kitch_sq == 1) | (df_train.kitch_sq == 0))&\n",
    "             (df_train.build_year > 10)].build_year.mean(),0)\n",
    "df_train.loc[(df_train.sub_area == 'Poselenie Pervomajskoe') &\n",
    "             ((df_train.kitch_sq == 11) | (df_train.kitch_sq == 12))&\n",
    "             (df_train.build_year < 10), 'build_year'] = round(df_train[(df_train.sub_area == 'Poselenie Pervomajskoe') &\n",
    "             ((df_train.kitch_sq == 12) | (df_train.kitch_sq == 11))&\n",
    "             (df_train.build_year > 10)].build_year.mean(),0)"
   ]
  },
  {
   "cell_type": "code",
   "execution_count": 17,
   "id": "1b7b6875-7d8e-4806-a562-0c0149babc5c",
   "metadata": {},
   "outputs": [],
   "source": [
    "df_train.loc[(df_train.sub_area == 'Poselenie Desjonovskoe') &\n",
    "             ((df_train.kitch_sq == 1) | (df_train.kitch_sq == 0))&\n",
    "             (df_train.build_year < 10), 'build_year'] = round(df_train[(df_train.sub_area == 'Poselenie Desjonovskoe') &\n",
    "             ((df_train.kitch_sq == 0) | (df_train.kitch_sq == 1))&\n",
    "             (df_train.build_year > 10)].build_year.mean(),0)\n",
    "df_train.loc[(df_train.sub_area == 'Poselenie Desjonovskoe') &\n",
    "             ((df_train.kitch_sq == 12))&\n",
    "             (df_train.build_year < 10), 'build_year'] = round(df_train[(df_train.sub_area == 'Poselenie Desjonovskoe') &\n",
    "             ((df_train.kitch_sq == 12))&\n",
    "             (df_train.build_year > 10)].build_year.mean(),0)\n",
    "df_test.loc[(df_test.sub_area == 'Poselenie Desjonovskoe') &\n",
    "             ((df_test.kitch_sq == 1) | (df_test.kitch_sq == 0))&\n",
    "             (df_test.build_year < 10), 'build_year'] = round(df_train[(df_train.sub_area == 'Poselenie Desjonovskoe') &\n",
    "             ((df_train.kitch_sq == 0) | (df_train.kitch_sq == 1))&\n",
    "             (df_train.build_year > 10)].build_year.mean(),0)"
   ]
  },
  {
   "cell_type": "code",
   "execution_count": 18,
   "id": "2ddcf600-6a5c-4aeb-844c-916176e9d9d2",
   "metadata": {},
   "outputs": [],
   "source": [
    "df_train.loc[(df_train.sub_area == 'Poselenie Moskovskij') &\n",
    "             ((df_train.kitch_sq == 1) | (df_train.kitch_sq == 0))&\n",
    "             (df_train.build_year < 10), 'build_year']  = round(df_train[(df_train.sub_area == 'Poselenie Moskovskij') &\n",
    "             ((df_train.kitch_sq == 0) | (df_train.kitch_sq == 1))&\n",
    "             (df_train.build_year > 10)].build_year.mean(),0)\n",
    "df_train.loc[(df_train.sub_area == 'Poselenie Moskovskij') &\n",
    "             ((df_train.kitch_sq == 10) | (df_train.kitch_sq == 17)\n",
    "             | (df_train.kitch_sq == 4))&\n",
    "             (df_train.build_year < 10), 'build_year'] = round(df_train[(df_train.sub_area == 'Poselenie Moskovskij') &\n",
    "             ((df_train.kitch_sq == 10) | (df_train.kitch_sq == 17)\n",
    "             | (df_train.kitch_sq == 4))&\n",
    "             (df_train.build_year > 10)].build_year.mean(),0)\n",
    "df_test.loc[(df_test.sub_area == 'Poselenie Moskovskij') &\n",
    "             ((df_test.kitch_sq == 1) | (df_test.kitch_sq == 0))&\n",
    "             (df_test.build_year < 10), 'build_year'] = round(df_train[(df_train.sub_area == 'Poselenie Moskovskij') &\n",
    "             ((df_train.kitch_sq == 0) | (df_train.kitch_sq == 1))&\n",
    "             (df_train.build_year > 10)].build_year.mean(),0)\n",
    "df_test.loc[(df_test.sub_area == 'Poselenie Moskovskij') &\n",
    "             ((df_test.kitch_sq == 12) | (df_test.kitch_sq == 15))&\n",
    "             (df_test.build_year < 10), 'build_year'] = round(df_train[(df_train.sub_area == 'Poselenie Moskovskij') &\n",
    "             ((df_train.kitch_sq == 12) | (df_train.kitch_sq == 15))&\n",
    "             (df_train.build_year > 10)].build_year.mean(),0)"
   ]
  },
  {
   "cell_type": "code",
   "execution_count": 19,
   "id": "b50ece66-0006-4969-94e3-2a014d632d00",
   "metadata": {},
   "outputs": [],
   "source": [
    "df_train.loc[(df_train.sub_area == 'Zapadnoe Degunino') &\n",
    "             ((df_train.kitch_sq == 1) | (df_train.kitch_sq == 0))&\n",
    "             (df_train.build_year < 10), 'build_year'] = round(df_train[(df_train.sub_area == 'Zapadnoe Degunino') &\n",
    "             ((df_train.kitch_sq == 0) | (df_train.kitch_sq == 1))&\n",
    "             (df_train.build_year > 10)].build_year.mean(),0)\n",
    "df_train.loc[(df_train.sub_area == 'Zapadnoe Degunino') &\n",
    "             ((df_train.kitch_sq == 10) | (df_train.kitch_sq == 43))&\n",
    "             (df_train.build_year < 10), 'build_year'] = round(df_train[(df_train.sub_area == 'Zapadnoe Degunino') &\n",
    "             ((df_train.kitch_sq == 10))&\n",
    "             (df_train.build_year > 10)].build_year.mean(),0)\n",
    "df_test.loc[(df_test.sub_area == 'Zapadnoe Degunino') &\n",
    "             ((df_test.kitch_sq == 1) | (df_test.kitch_sq == 0))&\n",
    "             (df_test.build_year < 10), 'build_year'] = round(df_train[(df_train.sub_area == 'Zapadnoe Degunino') &\n",
    "             ((df_train.kitch_sq == 0) | (df_train.kitch_sq == 1))&\n",
    "             (df_train.build_year > 10)].build_year.mean(),0)"
   ]
  },
  {
   "cell_type": "code",
   "execution_count": 20,
   "id": "dab7a060-d40b-4b94-8b1b-f65b21d1d7ac",
   "metadata": {},
   "outputs": [],
   "source": [
    "df_train.loc[(df_train.sub_area == 'Solncevo') &\n",
    "             ((df_train.kitch_sq == 1) | (df_train.kitch_sq == 0))&\n",
    "             (df_train.build_year < 10), 'build_year'] = round(df_train[(df_train.sub_area == 'Solncevo') &\n",
    "             ((df_train.kitch_sq == 1)| (df_train.kitch_sq == 0))&\n",
    "             (df_train.build_year > 10)].build_year.mean(),0)\n",
    "df_train.loc[(df_train.sub_area == 'Solncevo') &\n",
    "             ((df_train.kitch_sq == 10) | (df_train.kitch_sq == 14))&\n",
    "             (df_train.build_year < 10), 'build_year'] = round(df_train[(df_train.sub_area == 'Solncevo') &\n",
    "             ((df_train.kitch_sq == 10)| (df_train.kitch_sq == 14))&\n",
    "             (df_train.build_year > 10)].build_year.mean(),0)\n",
    "df_test.loc[(df_test.sub_area == 'Solncevo') &\n",
    "             ((df_test.kitch_sq == 1) | (df_test.kitch_sq == 0))&\n",
    "             (df_test.build_year < 10), 'build_year']= round(df_train[(df_train.sub_area == 'Solncevo') &\n",
    "             ((df_train.kitch_sq == 1)| (df_train.kitch_sq == 0))&\n",
    "             (df_train.build_year > 10)].build_year.mean(),0)\n",
    "df_test.loc[(df_test.sub_area == 'Solncevo') &\n",
    "             ((df_test.kitch_sq == 12))&\n",
    "             (df_test.build_year < 10), 'build_year']= round(df_train[(df_train.sub_area == 'Solncevo') &\n",
    "             ((df_train.kitch_sq == 12))&\n",
    "             (df_train.build_year > 10)].build_year.mean(),0)"
   ]
  },
  {
   "cell_type": "code",
   "execution_count": 21,
   "id": "9f45323a-93e5-4210-93d9-9957565c4d4c",
   "metadata": {},
   "outputs": [],
   "source": [
    "df_train.loc[(df_train.sub_area == 'Poselenie Vnukovskoe') &\n",
    "             ((df_train.kitch_sq == 1) | (df_train.kitch_sq == 0))&\n",
    "             (df_train.build_year < 10), 'build_year'] = round(df_train[(df_train.sub_area == 'Poselenie Vnukovskoe') &\n",
    "             ((df_train.kitch_sq == 1)| (df_train.kitch_sq == 0))&\n",
    "             (df_train.build_year > 10)].build_year.mean(),0)\n",
    "df_train.loc[(df_train.sub_area == 'Poselenie Vnukovskoe') &\n",
    "             ((df_train.kitch_sq == 10)| (df_train.kitch_sq == 12)\n",
    "             | (df_train.kitch_sq == 20))&\n",
    "             (df_train.build_year < 10), 'build_year'] = round(df_train[(df_train.sub_area == 'Poselenie Vnukovskoe') &\n",
    "             ((df_train.kitch_sq == 10)| (df_train.kitch_sq == 12)\n",
    "             | (df_train.kitch_sq == 20))&\n",
    "             (df_train.build_year > 10)].build_year.mean(),0)\n",
    "df_test.loc[(df_test.sub_area == 'Poselenie Vnukovskoe') &\n",
    "             ((df_test.kitch_sq == 1) | (df_test.kitch_sq == 0))&\n",
    "             (df_test.build_year < 10),'build_year'] = round(df_train[(df_train.sub_area == 'Poselenie Vnukovskoe') &\n",
    "             ((df_train.kitch_sq == 1)| (df_train.kitch_sq == 0))].build_year.mean(),0)\n",
    "df_test.loc[(df_test.sub_area == 'Poselenie Vnukovskoe') &\n",
    "             ((df_test.kitch_sq == 10))&\n",
    "             (df_test.build_year < 10),'build_year'] =round(df_train[(df_train.sub_area == 'Poselenie Vnukovskoe') &\n",
    "             ((df_train.kitch_sq == 10))&\n",
    "             (df_train.build_year > 10)].build_year.mean(),0)"
   ]
  },
  {
   "cell_type": "code",
   "execution_count": 22,
   "id": "a5dcf7d2-7941-4d0f-afc3-f6bb838da0db",
   "metadata": {},
   "outputs": [],
   "source": [
    "df_train.loc[(df_train.sub_area == 'Poselenie Sosenskoe') &\n",
    "             ((df_train.kitch_sq == 1) | (df_train.kitch_sq == 0))&\n",
    "             (df_train.build_year < 10), 'build_year'] = round(df_train[(df_train.sub_area == 'Poselenie Sosenskoe') &\n",
    "             ((df_train.kitch_sq == 0)| (df_train.kitch_sq == 1))&\n",
    "             (df_train.build_year > 10)].build_year.mean(),0)\n",
    "df_train.loc[(df_train.sub_area == 'Poselenie Sosenskoe') &\n",
    "             ((df_train.kitch_sq == 9))&\n",
    "             (df_train.build_year < 10), 'build_year'] = round(df_train[(df_train.sub_area == 'Poselenie Sosenskoe') &\n",
    "             ((df_train.kitch_sq == 9)) &\n",
    "             (df_train.build_year > 10)].build_year.mean(),0)\n",
    "df_train.loc[(df_train.sub_area == 'Poselenie Sosenskoe') &\n",
    "             ((df_train.kitch_sq == 10))&\n",
    "             (df_train.build_year < 10), 'build_year'] = round(df_train[(df_train.sub_area == 'Poselenie Sosenskoe') &\n",
    "             ((df_train.kitch_sq == 10)) &\n",
    "             (df_train.build_year > 10)].build_year.mean(),0)\n",
    "df_train.loc[(df_train.sub_area == 'Poselenie Sosenskoe') &\n",
    "             ((df_train.kitch_sq == 8))&\n",
    "             (df_train.build_year < 10), 'build_year'] = round(df_train[(df_train.sub_area == 'Poselenie Sosenskoe') &\n",
    "             ((df_train.kitch_sq == 8)) &\n",
    "             (df_train.build_year > 10)].build_year.mean(),0)\n",
    "df_train.loc[(df_train.sub_area == 'Poselenie Sosenskoe') &\n",
    "             ((df_train.kitch_sq == 11))&\n",
    "             (df_train.build_year < 10), 'build_year'] = round(df_train[(df_train.sub_area == 'Poselenie Sosenskoe') &\n",
    "             ((df_train.kitch_sq == 11)) &\n",
    "             (df_train.build_year > 10)].build_year.mean(),0)\n",
    "df_train.loc[(df_train.sub_area == 'Poselenie Sosenskoe') &\n",
    "             ((df_train.kitch_sq == 12))&\n",
    "             (df_train.build_year < 10), 'build_year'] = round(df_train[(df_train.sub_area == 'Poselenie Sosenskoe') &\n",
    "             ((df_train.kitch_sq == 12)) &\n",
    "             (df_train.build_year > 10)].build_year.mean(),0)\n",
    "df_test.loc[(df_test.sub_area == 'Poselenie Sosenskoe') &\n",
    "             ((df_test.kitch_sq == 1) | (df_test.kitch_sq == 0))&\n",
    "             (df_test.build_year < 10), 'build_year'] = round(df_train[(df_train.sub_area == 'Poselenie Sosenskoe') &\n",
    "             ((df_train.kitch_sq == 0)| (df_train.kitch_sq == 1))&\n",
    "             (df_train.build_year > 10)].build_year.mean(),0)\n",
    "df_test.loc[(df_test.sub_area == 'Poselenie Sosenskoe') &\n",
    "             ((df_test.kitch_sq == 9))&\n",
    "             (df_test.build_year < 10), 'build_year'] = round(df_train[(df_train.sub_area == 'Poselenie Sosenskoe') &\n",
    "             ((df_train.kitch_sq == 9)) &\n",
    "             (df_train.build_year > 10)].build_year.mean(),0)\n",
    "df_test.loc[(df_test.sub_area == 'Poselenie Sosenskoe') &\n",
    "             ((df_test.kitch_sq == 11))&\n",
    "             (df_test.build_year < 10), 'build_year'] = round(df_train[(df_train.sub_area == 'Poselenie Sosenskoe') &\n",
    "             ((df_train.kitch_sq == 11)) &\n",
    "             (df_train.build_year > 10)].build_year.mean(),0)\n",
    "df_test.loc[(df_test.sub_area == 'Poselenie Sosenskoe') &\n",
    "             ((df_test.kitch_sq == 12))&\n",
    "             (df_test.build_year < 10), 'build_year'] = round(df_train[(df_train.sub_area == 'Poselenie Sosenskoe') &\n",
    "             ((df_train.kitch_sq == 12)) &\n",
    "             (df_train.build_year > 10)].build_year.mean(),0)"
   ]
  },
  {
   "cell_type": "code",
   "execution_count": 23,
   "id": "35eedf72-1475-4fe7-9be6-77fce62a0575",
   "metadata": {},
   "outputs": [],
   "source": [
    "df_train.loc[(df_train.sub_area == 'Poselenie Krasnopahorskoe') &\n",
    "             ((df_train.kitch_sq == 0))&\n",
    "             (df_train.build_year < 10), 'build_year'] = round(df_train[(df_train.sub_area == 'Poselenie Krasnopahorskoe') &\n",
    "             ((df_train.kitch_sq == 0))&\n",
    "             (df_train.build_year > 10)].build_year.mean(),0)"
   ]
  },
  {
   "cell_type": "code",
   "execution_count": 24,
   "id": "c82f1aca-995e-44be-80c9-f4c9a974d026",
   "metadata": {},
   "outputs": [],
   "source": [
    "df_train.loc[(df_train.sub_area == 'Poselenie Rogovskoe') &\n",
    "             ((df_train.kitch_sq == 0) | (df_train.kitch_sq == 1)\n",
    "             | (df_train.kitch_sq == 8))&\n",
    "             (df_train.build_year < 10), 'build_year'] = round(df_train[(df_train.sub_area == 'Poselenie Rogovskoe') &\n",
    "             ((df_train.kitch_sq == 0) | (df_train.kitch_sq == 1)\n",
    "              | (df_train.kitch_sq == 8))&\n",
    "             (df_train.build_year > 10)].build_year.mean(),0)\n",
    "df_test.loc[(df_test.sub_area == 'Poselenie Rogovskoe') &\n",
    "             ((df_test.kitch_sq == 1))&\n",
    "             (df_test.build_year < 10), 'build_year']= round(df_train[(df_train.sub_area == 'Poselenie Rogovskoe') &\n",
    "             ((df_train.kitch_sq == 1))&\n",
    "             (df_train.build_year > 10)].build_year.mean(),0)"
   ]
  },
  {
   "cell_type": "code",
   "execution_count": 25,
   "id": "e65c3387-db06-4e97-a546-efdb0dd20264",
   "metadata": {},
   "outputs": [],
   "source": [
    "df_train.loc[(df_train.sub_area == 'Nekrasovka') &\n",
    "             ((df_train.kitch_sq == 1) | (df_train.kitch_sq == 0))&\n",
    "             (df_train.build_year < 10), 'build_year'] = round(df_train[(df_train.sub_area == 'Nekrasovka') &\n",
    "             ((df_train.kitch_sq == 0) | (df_train.kitch_sq == 1))&\n",
    "             (df_train.build_year > 10)].build_year.mean(),0)\n",
    "df_train.loc[(df_train.sub_area == 'Nekrasovka') &\n",
    "             ((df_train.kitch_sq == 12) | (df_train.kitch_sq == 13))&\n",
    "             (df_train.build_year < 10), 'build_year'] = round(df_train[(df_train.sub_area == 'Nekrasovka') &\n",
    "             ((df_train.kitch_sq == 13))&\n",
    "             (df_train.build_year > 10)].build_year.mean(),0)\n",
    "df_test.loc[(df_test.sub_area == 'Nekrasovka') &\n",
    "             ((df_test.kitch_sq == 1) | (df_test.kitch_sq == 0)| (df_test.kitch_sq == 10)| (df_test.kitch_sq == 12))&\n",
    "             (df_test.build_year < 10), 'build_year'] = round(df_train[(df_train.sub_area == 'Nekrasovka') &\n",
    "             ((df_train.kitch_sq == 0) | (df_train.kitch_sq == 1))&\n",
    "             (df_train.build_year > 10)].build_year.mean(),0)"
   ]
  },
  {
   "cell_type": "code",
   "execution_count": 26,
   "id": "f0df97dd-784e-4cf9-a95f-a68a5838abd4",
   "metadata": {},
   "outputs": [],
   "source": [
    "df_train.loc[(df_train.sub_area == 'Donskoe') &\n",
    "             ((df_train.kitch_sq == 10))&\n",
    "             (df_train.build_year < 10), 'build_year'] = round(df_train[(df_train.sub_area == 'Donskoe') &\n",
    "             ((df_train.kitch_sq == 10))&\n",
    "             (df_train.build_year > 10)].build_year.mean(),0)"
   ]
  },
  {
   "cell_type": "code",
   "execution_count": 27,
   "id": "a725ede1-51e2-4539-893d-061f254a75f8",
   "metadata": {},
   "outputs": [],
   "source": [
    "df_train.loc[(df_train.sub_area == 'Poselenie Voskresenskoe') &\n",
    "             ((df_train.kitch_sq == 0)|(df_train.kitch_sq == 1)|\n",
    "             (df_train.kitch_sq == 12))&\n",
    "             (df_train.build_year < 10), 'build_year'] = round(df_train[(df_train.sub_area == 'Poselenie Voskresenskoe') &\n",
    "             ((df_train.kitch_sq == 0)|(df_train.kitch_sq == 1)|\n",
    "             (df_train.kitch_sq == 12))&\n",
    "             (df_train.build_year > 10)].build_year.mean(),0)"
   ]
  },
  {
   "cell_type": "code",
   "execution_count": 28,
   "id": "f9260a6c-4c4c-4041-ae00-b8c85079192a",
   "metadata": {},
   "outputs": [],
   "source": [
    "df_train.loc[(df_train.sub_area == 'Poselenie Voskresenskoe') &\n",
    "             ((df_train.kitch_sq == 0)|(df_train.kitch_sq == 1)|\n",
    "             (df_train.kitch_sq == 12))&\n",
    "             (df_train.build_year < 10), 'build_year'] = round(df_train[(df_train.sub_area == 'Poselenie Voskresenskoe') &\n",
    "             ((df_train.kitch_sq == 0)|(df_train.kitch_sq == 1)|\n",
    "             (df_train.kitch_sq == 12))&\n",
    "             (df_train.build_year > 10)].build_year.mean(),0)"
   ]
  },
  {
   "cell_type": "code",
   "execution_count": 29,
   "id": "cb3d5408-d314-4467-b109-c50d0984e4f7",
   "metadata": {},
   "outputs": [],
   "source": [
    "df_train.loc[(df_train.sub_area == 'Krjukovo') &\n",
    "             ((df_train.kitch_sq == 0)|(df_train.kitch_sq == 1))&\n",
    "             (df_train.build_year < 10), 'build_year'] = round(df_train[(df_train.sub_area == 'Krjukovo') &\n",
    "             ((df_train.kitch_sq == 0)|(df_train.kitch_sq == 1))&\n",
    "             (df_train.build_year > 10)].build_year.mean(),0)"
   ]
  },
  {
   "cell_type": "code",
   "execution_count": 30,
   "id": "f29571e8-4f31-4aee-831c-390d5dcacb28",
   "metadata": {},
   "outputs": [],
   "source": [
    "df_train.loc[(df_train.sub_area == 'Juzhnoe Butovo') &\n",
    "             ((df_train.kitch_sq == 1)|(df_train.kitch_sq == 7)|\n",
    "             (df_train.kitch_sq == 8)|(df_train.kitch_sq == 10))&\n",
    "             (df_train.build_year < 10), 'build_year'] = round(df_train[(df_train.sub_area == 'Juzhnoe Butovo') &\n",
    "             ((df_train.kitch_sq == 1)|(df_train.kitch_sq == 7)|\n",
    "             (df_train.kitch_sq == 8)|(df_train.kitch_sq == 10))&\n",
    "             (df_train.build_year > 10)].build_year.mean(),0)"
   ]
  },
  {
   "cell_type": "code",
   "execution_count": 31,
   "id": "ee917794-471c-4025-b547-56c609007d4e",
   "metadata": {},
   "outputs": [],
   "source": [
    "df_train.loc[(df_train.sub_area == 'Troickij okrug') &\n",
    "             ((df_train.kitch_sq == 19))&\n",
    "             (df_train.build_year < 10), 'build_year'] = round(df_train[(df_train.sub_area == 'Troickij okrug') &\n",
    "             ((df_train.kitch_sq == 19))&\n",
    "             (df_train.build_year > 10)].build_year.mean(),0)\n",
    "df_train.loc[(df_train.sub_area == 'Troickij okrug') &\n",
    "             ((df_train.kitch_sq == 15))&\n",
    "             (df_train.build_year < 10), 'build_year'] = round(df_train[(df_train.sub_area == 'Troickij okrug') &\n",
    "             ((df_train.kitch_sq == 15))&\n",
    "             (df_train.build_year > 10)].build_year.mean(),0)\n",
    "df_train.loc[(df_train.sub_area == 'Troickij okrug') &\n",
    "             ((df_train.kitch_sq == 18))&\n",
    "             (df_train.build_year < 10), 'build_year'] = round(df_train[(df_train.sub_area == 'Troickij okrug') &\n",
    "             ((df_train.kitch_sq == 18))&\n",
    "             (df_train.build_year > 10)].build_year.mean(),0)\n",
    "df_test.loc[(df_test.sub_area == 'Troickij okrug') &\n",
    "             ((df_test.kitch_sq == 12))&\n",
    "             (df_test.build_year < 10), 'build_year'] = round(df_train[(df_train.sub_area == 'Troickij okrug') &\n",
    "             ((df_train.kitch_sq == 12))&\n",
    "             (df_train.build_year > 10)].build_year.mean(),0)\n",
    "df_test.loc[(df_test.sub_area == 'Troickij okrug') &\n",
    "             ((df_test.kitch_sq == 13))&\n",
    "             (df_test.build_year < 10), 'build_year'] = round(df_train[(df_train.sub_area == 'Troickij okrug') &\n",
    "             ((df_train.kitch_sq == 13))&\n",
    "             (df_train.build_year > 10)].build_year.mean(),0)"
   ]
  },
  {
   "cell_type": "code",
   "execution_count": 32,
   "id": "965242d0-1156-42ac-bb04-46e9ebf3de38",
   "metadata": {},
   "outputs": [],
   "source": [
    "df_train.loc[(df_train.sub_area == 'Mozhajskoe') &\n",
    "             ((df_train.num_room == 2))&\n",
    "             (df_train.build_year < 10), 'build_year'] = round(df_train[(df_train.sub_area == 'Mozhajskoe') &\n",
    "             ((df_train.num_room == 2))&\n",
    "             (df_train.build_year > 10)].build_year.mean(),0)"
   ]
  },
  {
   "cell_type": "code",
   "execution_count": 33,
   "id": "12df996a-0ba8-4cb9-abb4-4afcfce94479",
   "metadata": {},
   "outputs": [],
   "source": [
    "df_train.loc[(df_train.sub_area == \"Tekstil'shhiki\") &\n",
    "             ((df_train.kitch_sq == 5))&\n",
    "             (df_train.build_year < 10), 'build_year'] = round(df_train[(df_train.sub_area == \"Tekstil'shhiki\") &\n",
    "             ((df_train.kitch_sq == 5))&\n",
    "             (df_train.build_year > 10)].build_year.mean(),0)\n",
    "df_train.loc[(df_train.sub_area == \"Tekstil'shhiki\") &\n",
    "             ((df_train.kitch_sq == 1) | (df_train.kitch_sq == 0))&\n",
    "             (df_train.build_year < 10), 'build_year'] = round(df_train[(df_train.sub_area == \"Tekstil'shhiki\") &\n",
    "             ((df_train.kitch_sq == 1) | (df_train.kitch_sq == 0))&\n",
    "             (df_train.build_year > 10)].build_year.mean(),0)"
   ]
  },
  {
   "cell_type": "code",
   "execution_count": 34,
   "id": "87659b72-1a65-4706-ba92-64fe2348dd6f",
   "metadata": {},
   "outputs": [],
   "source": [
    "df_train.loc[(df_train.sub_area == \"Teplyj Stan\") &\n",
    "             ((df_train.kitch_sq == 1) )&\n",
    "             (df_train.build_year < 10), 'build_year'] = 2014\n",
    "df_train.loc[(df_train.sub_area == \"Teplyj Stan\") &\n",
    "             ((df_train.kitch_sq == 6) )&\n",
    "             (df_train.build_year < 10), 'build_year'] = round(df_train[(df_train.sub_area == \"Teplyj Stan\") &\n",
    "             ((df_train.kitch_sq == 6) )&\n",
    "             (df_train.build_year > 10)].build_year.mean(),0)"
   ]
  },
  {
   "cell_type": "code",
   "execution_count": 35,
   "id": "0338a3c9-a910-4906-962a-88bbcaf76e96",
   "metadata": {},
   "outputs": [],
   "source": [
    "df_train.loc[(df_train.sub_area == \"Novogireevo\") &\n",
    "             ((df_train.kitch_sq == 0) )&\n",
    "             (df_train.build_year < 10), 'build_year'] = 2014\n",
    "df_train.loc[(df_train.sub_area == \"Novogireevo\") &\n",
    "             ((df_train.kitch_sq == 5) )&\n",
    "             (df_train.build_year < 10), 'build_year'] = round(df_train[(df_train.sub_area == \"Novogireevo\") &\n",
    "             ((df_train.kitch_sq == 5) )&\n",
    "             (df_train.build_year > 10)].build_year.mean(),0)"
   ]
  },
  {
   "cell_type": "code",
   "execution_count": 36,
   "id": "1bcb50f9-79b0-4ee3-b3c8-f201a81f0217",
   "metadata": {},
   "outputs": [],
   "source": [
    "df_train.loc[(df_train.sub_area == 'Mitino') &\n",
    "             ((df_train.kitch_sq == 0)|(df_train.kitch_sq == 1))&\n",
    "             (df_train.build_year < 10), 'build_year'] = round(df_train[(df_train.sub_area == \"Mitino\") &\n",
    "             ((df_train.kitch_sq == 0)|(df_train.kitch_sq == 1))&\n",
    "             (df_train.build_year > 10)].build_year.mean(),0)\n",
    "df_train.loc[(df_train.sub_area == 'Mitino') &\n",
    "             ((df_train.kitch_sq == 10))&\n",
    "             (df_train.build_year < 10), 'build_year'] = round(df_train[(df_train.sub_area == \"Mitino\") &\n",
    "             ((df_train.kitch_sq == 10))&\n",
    "             (df_train.build_year > 10)].build_year.mean(),0)"
   ]
  },
  {
   "cell_type": "code",
   "execution_count": 37,
   "id": "123b7440-7b95-46be-8a74-5a39cfe21f24",
   "metadata": {},
   "outputs": [],
   "source": [
    "df_train.loc[(df_train.sub_area == 'Danilovskoe') &\n",
    "             ((df_train.kitch_sq == 0))&\n",
    "             (df_train.build_year < 10), 'build_year'] = 2012\n",
    "df_train.loc[(df_train.sub_area == 'Danilovskoe') &\n",
    "             ((df_train.kitch_sq == 1))&\n",
    "             (df_train.build_year < 10), 'build_year'] = round(df_train[(df_train.sub_area == \"Danilovskoe\") &\n",
    "             ((df_train.kitch_sq == 1))&\n",
    "             (df_train.build_year > 10)].build_year.mean(),0)"
   ]
  },
  {
   "cell_type": "code",
   "execution_count": 38,
   "id": "66814ab3-f701-4521-a4aa-ac32595ad394",
   "metadata": {},
   "outputs": [],
   "source": [
    "df_train.loc[(df_train.sub_area == 'Strogino') &\n",
    "             ((df_train.kitch_sq == 0))&\n",
    "             (df_train.build_year < 10), 'build_year'] = round(df_train[(df_train.sub_area == \"Strogino\") &\n",
    "             ((df_train.kitch_sq == 0))&\n",
    "             (df_train.build_year > 10)].build_year.mean(),0)\n",
    "df_test.loc[(df_test.sub_area == 'Strogino') &\n",
    "             ((df_test.kitch_sq == 0)|(df_test.kitch_sq == 1))&\n",
    "             (df_test.build_year < 10), 'build_year'] = round(df_train[(df_train.sub_area == \"Strogino\") &\n",
    "             ((df_train.kitch_sq == 1)|(df_train.kitch_sq == 0))&\n",
    "             (df_train.build_year > 10)].build_year.mean(),0)"
   ]
  },
  {
   "cell_type": "code",
   "execution_count": 39,
   "id": "2aa90e4b-ae6f-4f20-bc60-9a6f2e121d74",
   "metadata": {},
   "outputs": [],
   "source": [
    "df_train.loc[(df_train.sub_area == 'Jasenevo') &\n",
    "             ((df_train.kitch_sq == 10))&\n",
    "             (df_train.build_year < 10), 'build_year'] = round(df_train[(df_train.sub_area == \"Jasenevo\") &\n",
    "             ((df_train.kitch_sq == 10))&\n",
    "             (df_train.build_year > 10)].build_year.mean(),0)"
   ]
  },
  {
   "cell_type": "code",
   "execution_count": 40,
   "id": "b4523a9f-d79b-4eeb-abb8-fe309a5bad55",
   "metadata": {},
   "outputs": [],
   "source": [
    "df_train.loc[(df_train.sub_area == 'Ramenki') &\n",
    "             ((df_train.kitch_sq == 1))&\n",
    "             (df_train.build_year < 10), 'build_year'] =round(df_train[(df_train.sub_area == \"Ramenki\") &\n",
    "             ((df_train.kitch_sq == 1))&\n",
    "             (df_train.build_year > 10)].build_year.mean(),0)"
   ]
  },
  {
   "cell_type": "code",
   "execution_count": 41,
   "id": "ca8f21db-7af0-47ef-91f6-a6bf3a9d4dab",
   "metadata": {},
   "outputs": [],
   "source": [
    "df_train.loc[(df_train.sub_area == 'Obruchevskoe') &\n",
    "             ((df_train.kitch_sq == 1)|(df_train.kitch_sq == 0))&\n",
    "             (df_train.build_year < 10), 'build_year'] = round(df_train[(df_train.sub_area == \"Obruchevskoe\") &\n",
    "             ((df_train.kitch_sq == 1)|(df_train.kitch_sq == 0))&\n",
    "             (df_train.build_year > 10)].build_year.mean(),0)"
   ]
  },
  {
   "cell_type": "code",
   "execution_count": 42,
   "id": "6d1d3b1b-6735-4e12-934e-36f80769a7e1",
   "metadata": {},
   "outputs": [],
   "source": [
    "df_train.loc[(df_train.sub_area == 'Presnenskoe') &\n",
    "             ((df_train.kitch_sq == 0))&\n",
    "             (df_train.build_year < 10), 'build_year'] = 2001\n",
    "df_test.loc[(df_test.sub_area == 'Presnenskoe') &\n",
    "             ((df_test.kitch_sq == 20))&\n",
    "             (df_test.build_year < 10), 'build_year'] = 2013"
   ]
  },
  {
   "cell_type": "code",
   "execution_count": 43,
   "id": "29da88b9-67c1-4cbf-9aec-10cd794e0394",
   "metadata": {},
   "outputs": [],
   "source": [
    "df_train.loc[(df_train.sub_area == 'Novo-Peredelkino') &\n",
    "             ((df_train.kitch_sq == 1))&\n",
    "             (df_train.build_year < 10), 'build_year'] = round(df_train[(df_train.sub_area == \"Novo-Peredelkino\") &\n",
    "             ((df_train.kitch_sq == 1))&\n",
    "             (df_train.build_year > 10)].build_year.mean(),0)"
   ]
  },
  {
   "cell_type": "code",
   "execution_count": 44,
   "id": "0fb26d25-b0ff-4740-84ff-4a3d0b1f6d43",
   "metadata": {},
   "outputs": [],
   "source": [
    "df_train.loc[(df_train.sub_area == 'Chertanovo Severnoe') &\n",
    "             ((df_train.kitch_sq == 0))&\n",
    "             (df_train.build_year < 10), 'build_year'] =round(df_train[(df_train.sub_area == \"Chertanovo Severnoe\") &\n",
    "             ((df_train.kitch_sq == 0))&\n",
    "             (df_train.build_year > 10)].build_year.mean(),0)"
   ]
  },
  {
   "cell_type": "code",
   "execution_count": 45,
   "id": "5209b123-9373-4419-8358-1e66d58d493f",
   "metadata": {},
   "outputs": [],
   "source": [
    "df_train.loc[(df_train.sub_area == 'Nagatinskij Zaton') &\n",
    "             ((df_train.kitch_sq == 1))&\n",
    "             (df_train.build_year < 10), 'build_year'] =round(df_train[(df_train.sub_area == \"Nagatinskij Zaton\") &\n",
    "             ((df_train.kitch_sq == 1))&\n",
    "             (df_train.build_year > 10)].build_year.mean(),0)\n",
    "df_train.loc[(df_train.sub_area == 'Nagatinskij Zaton') &\n",
    "             ((df_train.kitch_sq == 0))&\n",
    "             (df_train.build_year < 10), 'build_year'] =round(df_train[(df_train.sub_area == \"Nagatinskij Zaton\") &\n",
    "             ((df_train.kitch_sq == 0))&\n",
    "             (df_train.build_year > 10)].build_year.mean(),0)"
   ]
  },
  {
   "cell_type": "code",
   "execution_count": 46,
   "id": "1995113b-b22d-41b3-b45f-a56e3041f9d6",
   "metadata": {},
   "outputs": [],
   "source": [
    "df_train.loc[(df_train.sub_area == 'Severnoe Tushino') &\n",
    "             ((df_train.kitch_sq == 0))&\n",
    "             (df_train.build_year < 10), 'build_year'] =round(df_train[(df_train.sub_area == \"Severnoe Tushino\") &\n",
    "             ((df_train.kitch_sq == 0))&\n",
    "             (df_train.build_year > 10)].build_year.mean(),0)"
   ]
  },
  {
   "cell_type": "code",
   "execution_count": 47,
   "id": "60a805d6-4255-4ae8-89e3-399cd375baa5",
   "metadata": {},
   "outputs": [],
   "source": [
    "df_train.loc[(df_train.sub_area == 'Prospekt Vernadskogo') &\n",
    "             ((df_train.kitch_sq == 0))&\n",
    "             (df_train.build_year < 10), 'build_year'] = round(df_train[(df_train.sub_area == \"Prospekt Vernadskogo\") &\n",
    "             ((df_train.kitch_sq == 0))&\n",
    "             (df_train.build_year > 10)].build_year.mean(),0)"
   ]
  },
  {
   "cell_type": "code",
   "execution_count": 48,
   "id": "969e3f2e-15b4-49be-9d81-89eb13b7de9d",
   "metadata": {},
   "outputs": [],
   "source": [
    "df_train.loc[(df_train.sub_area == 'Beskudnikovskoe') &\n",
    "             ((df_train.kitch_sq == 9))&\n",
    "             (df_train.build_year < 10), 'build_year'] = round(df_train[(df_train.sub_area == \"Beskudnikovskoe\") &\n",
    "             ((df_train.kitch_sq == 9))&\n",
    "             (df_train.build_year > 10)].build_year.mean(),0)\n",
    "df_train.loc[(df_train.sub_area == 'Akademicheskoe') &\n",
    "             ((df_train.kitch_sq == 10))&\n",
    "             (df_train.build_year < 10), 'build_year'] = round(df_train[(df_train.sub_area == \"Akademicheskoe\") &\n",
    "             ((df_train.kitch_sq == 10))&\n",
    "             (df_train.build_year > 10)].build_year.mean(),0)\n",
    "df_train.loc[(df_train.sub_area == 'Birjulevo Vostochnoe') &\n",
    "             ((df_train.kitch_sq == 9)|(df_train.kitch_sq == 1))&\n",
    "             (df_train.build_year < 10), 'build_year'] = round(df_train[(df_train.sub_area == \"Birjulevo Vostochnoe\") &\n",
    "             ((df_train.kitch_sq == 9)|(df_train.kitch_sq == 1))&\n",
    "             (df_train.build_year > 10)].build_year.mean(),0)\n",
    "df_train.loc[(df_train.sub_area == 'Brateevo') &\n",
    "             ((df_train.kitch_sq == 8)|(df_train.kitch_sq == 1))&\n",
    "             (df_train.build_year < 10), 'build_year'] = round(df_train[(df_train.sub_area == \"Brateevo\") &\n",
    "             ((df_train.kitch_sq == 8)|(df_train.kitch_sq == 1))&\n",
    "             (df_train.build_year > 10)].build_year.mean(),0)\n",
    "df_train.loc[(df_train.sub_area == \"Chertanovo Central'noe\") &\n",
    "             ((df_train.kitch_sq == 5))&\n",
    "             (df_train.build_year < 10), 'build_year'] = round(df_train[(df_train.sub_area == \"Chertanovo Central'noe\") &\n",
    "             ((df_train.kitch_sq == 5))&\n",
    "             (df_train.build_year > 10)].build_year.mean(),0)\n",
    "df_train.loc[(df_train.sub_area == \"Chertanovo Central'noe\") &\n",
    "             ((df_train.kitch_sq == 1))&\n",
    "             (df_train.build_year < 10), 'build_year'] = round(df_train[(df_train.sub_area == \"Chertanovo Central'noe\") &\n",
    "             ((df_train.kitch_sq == 1))&\n",
    "             (df_train.build_year > 10)].build_year.mean(),0)\n",
    "df_train.loc[(df_train.sub_area == \"Hovrino\") &\n",
    "             ((df_train.kitch_sq == 9))&\n",
    "             (df_train.build_year < 10), 'build_year'] = round(df_train[(df_train.sub_area == \"Hovrino\") &\n",
    "             ((df_train.kitch_sq == 9))&\n",
    "             (df_train.build_year > 10)].build_year.mean(),0)\n",
    "df_train.loc[(df_train.sub_area == \"Kapotnja\") &\n",
    "             ((df_train.kitch_sq == 1))&\n",
    "             (df_train.build_year < 10), 'build_year'] = round(df_train[(df_train.sub_area == \"Kapotnja\") &\n",
    "             ((df_train.kitch_sq == 1))&\n",
    "             (df_train.build_year > 10)].build_year.mean(),0)\n",
    "df_train.loc[(df_train.sub_area == \"Krylatskoe\") &\n",
    "             ((df_train.kitch_sq == 1))&\n",
    "             (df_train.build_year < 10), 'build_year'] = round(df_train[(df_train.sub_area == \"Krylatskoe\") &\n",
    "             ((df_train.kitch_sq == 1))&\n",
    "             (df_train.build_year > 10)].build_year.mean(),0)\n",
    "df_train.loc[(df_train.sub_area == \"Levoberezhnoe\") &\n",
    "             ((df_train.kitch_sq == 1))&\n",
    "             (df_train.build_year < 10), 'build_year'] = round(df_train[(df_train.sub_area == \"Levoberezhnoe\") &\n",
    "             ((df_train.kitch_sq == 1))&\n",
    "             (df_train.build_year > 10)].build_year.mean(),0)\n",
    "df_train.loc[(df_train.sub_area == \"Mar'ino\") &\n",
    "             ((df_train.kitch_sq == 7))&\n",
    "             (df_train.build_year < 10), 'build_year'] = round(df_train[(df_train.sub_area == \"Mar'ino\") &\n",
    "             ((df_train.kitch_sq == 7))&\n",
    "             (df_train.build_year > 10)].build_year.mean(),0)\n",
    "df_train.loc[(df_train.sub_area == \"Nagornoe\") &\n",
    "             ((df_train.kitch_sq == 1))&\n",
    "             (df_train.build_year < 10), 'build_year'] = round(df_train[(df_train.sub_area == \"Nagornoe\") &\n",
    "             ((df_train.kitch_sq == 1))&\n",
    "             (df_train.build_year > 10)].build_year.mean(),0)\n",
    "df_train.loc[(df_train.sub_area == \"Orehovo-Borisovo Severnoe\") &\n",
    "             ((df_train.kitch_sq == 1)|(df_train.kitch_sq == 8)|(df_train.kitch_sq == 14))&\n",
    "             (df_train.build_year < 10), 'build_year'] = round(df_train[(df_train.sub_area == \"Orehovo-Borisovo Severnoe\") &\n",
    "             ((df_train.kitch_sq == 8))&\n",
    "             (df_train.build_year > 10)].build_year.mean(),0)\n",
    "df_train.loc[(df_train.sub_area == \"Otradnoe\") &\n",
    "             ((df_train.kitch_sq == 6))&\n",
    "             (df_train.build_year < 10), 'build_year'] = round(df_train[(df_train.sub_area == \"Otradnoe\") &\n",
    "             ((df_train.kitch_sq == 6))&\n",
    "             (df_train.build_year > 10)].build_year.mean(),0)\n",
    "df_train.loc[(df_train.sub_area == \"Pokrovskoe Streshnevo\") &\n",
    "             ((df_train.kitch_sq == 11)|(df_train.kitch_sq == 5))&\n",
    "             (df_train.build_year < 10), 'build_year'] = round(df_train[(df_train.sub_area == \"Pokrovskoe Streshnevo\") &\n",
    "             ((df_train.kitch_sq == 11)|(df_train.kitch_sq == 5))&\n",
    "             (df_train.build_year > 10)].build_year.mean(),0)\n",
    "df_train.loc[(df_train.sub_area == \"Pokrovskoe Streshnevo\") &\n",
    "             ((df_train.kitch_sq == 1))&\n",
    "             (df_train.build_year < 10), 'build_year'] = round(df_train[(df_train.sub_area == \"Pokrovskoe Streshnevo\") &\n",
    "             ((df_train.kitch_sq == 1))&\n",
    "             (df_train.build_year > 10)].build_year.mean(),0)\n",
    "df_train.loc[(df_train.sub_area == \"Severnoe Butovo\") &\n",
    "             ((df_train.kitch_sq == 8))&\n",
    "             (df_train.build_year < 10), 'build_year'] = round(df_train[(df_train.sub_area == \"Severnoe Butovo\") &\n",
    "             ((df_train.kitch_sq == 8))&\n",
    "             (df_train.build_year > 10)].build_year.mean(),0)\n",
    "df_train.loc[(df_train.sub_area == \"Severnoe Medvedkovo\") &\n",
    "             ((df_train.kitch_sq == 12))&\n",
    "             (df_train.build_year < 10), 'build_year'] = round(df_train[(df_train.sub_area == \"Severnoe Medvedkovo\") &\n",
    "             ((df_train.kitch_sq == 12))&\n",
    "             (df_train.build_year > 10)].build_year.mean(),0)\n",
    "df_train.loc[(df_train.sub_area == \"Timirjazevskoe\") &\n",
    "             ((df_train.kitch_sq == 1))&\n",
    "             (df_train.build_year < 10), 'build_year'] = round(df_train[(df_train.sub_area == \"Timirjazevskoe\") &\n",
    "             (df_train.build_year > 10)].build_year.mean(),0)\n",
    "df_train.loc[(df_train.sub_area == \"Vojkovskoe\") &\n",
    "             ((df_train.kitch_sq == 8))&\n",
    "             (df_train.build_year < 10), 'build_year'] = round(df_train[(df_train.sub_area == \"Vojkovskoe\") &\n",
    "             ((df_train.kitch_sq == 8))&\n",
    "             (df_train.build_year > 10)].build_year.mean(),0)\n",
    "df_train.loc[(df_train.sub_area == \"Vyhino-Zhulebino\") &\n",
    "             ((df_train.kitch_sq == 6))&\n",
    "             (df_train.build_year < 10), 'build_year'] = round(df_train[(df_train.sub_area == \"Vyhino-Zhulebino\") &\n",
    "             ((df_train.kitch_sq == 6))&\n",
    "             (df_train.build_year > 10)].build_year.mean(),0)\n",
    "df_train.loc[(df_train.sub_area == \"Zjuzino\") &\n",
    "             ((df_train.kitch_sq == 5))&\n",
    "             (df_train.build_year < 10), 'build_year'] = round(df_train[(df_train.sub_area == \"Zjuzino\") &\n",
    "             ((df_train.kitch_sq == 5))&\n",
    "             (df_train.build_year > 10)].build_year.mean(),0)"
   ]
  },
  {
   "cell_type": "code",
   "execution_count": 49,
   "id": "17ef9229-2d11-499e-89b8-49b47825a31c",
   "metadata": {},
   "outputs": [],
   "source": [
    "df_test.loc[(df_test.sub_area == \"Danilovskoe\") &\n",
    "             ((df_test.kitch_sq == 1))&\n",
    "             (df_test.build_year < 10), 'build_year'] = round(df_train[(df_train.sub_area == \"Danilovskoe\") &\n",
    "             ((df_train.kitch_sq == 1))&\n",
    "             (df_train.build_year > 10)].build_year.mean(),0)\n",
    "df_test.loc[(df_test.sub_area == \"Juzhnoe Medvedkovo\") &\n",
    "             ((df_test.kitch_sq == 10))&\n",
    "             (df_test.build_year < 10), 'build_year'] = round(df_train[(df_train.sub_area == \"Juzhnoe Medvedkovo\") &\n",
    "             ((df_train.kitch_sq == 10))&\n",
    "             (df_train.build_year > 10)].build_year.mean(),0)\n",
    "df_test.loc[(df_test.sub_area == \"Juzhnoe Tushino\") &\n",
    "             ((df_test.kitch_sq == 1))&\n",
    "             (df_test.build_year < 10), 'build_year'] = round(df_train[(df_train.sub_area == \"Juzhnoe Tushino\") &\n",
    "             (df_train.build_year > 10)].build_year.mean(),0)\n",
    "df_test.loc[(df_test.sub_area == \"Krjukovo\") &\n",
    "             ((df_test.kitch_sq == 1))&\n",
    "             (df_test.build_year < 10), 'build_year'] = round(df_train[(df_train.sub_area == \"Krjukovo\") &\n",
    "             ((df_train.kitch_sq == 1))&\n",
    "             (df_train.build_year > 10)].build_year.mean(),0)\n",
    "df_test.loc[(df_test.sub_area == \"Kuncevo\") &\n",
    "             ((df_test.kitch_sq == 9))&\n",
    "             (df_test.build_year < 10), 'build_year'] = round(df_train[(df_train.sub_area == \"Kuncevo\") &\n",
    "             ((df_train.kitch_sq == 9))&\n",
    "             (df_train.build_year > 10)].build_year.mean(),0)\n",
    "df_test.loc[(df_test.sub_area == \"Levoberezhnoe\") &\n",
    "             ((df_test.kitch_sq == 1))&\n",
    "             (df_test.build_year < 10), 'build_year'] = round(df_train[(df_train.sub_area == \"Levoberezhnoe\") &\n",
    "             ((df_train.kitch_sq == 1))&\n",
    "             (df_train.build_year > 10)].build_year.mean(),0)\n",
    "df_test.loc[(df_test.sub_area == \"Mar'ina Roshha\") &\n",
    "             ((df_test.kitch_sq == 1)|(df_test.kitch_sq == 0))&\n",
    "             (df_test.build_year < 10), 'build_year'] = round(df_train[(df_train.sub_area == \"Mar'ina Roshha\") &\n",
    "             ((df_train.kitch_sq == 1))&\n",
    "             (df_train.build_year > 10)].build_year.mean(),0)\n",
    "df_test.loc[(df_test.sub_area == \"Mitino\") &\n",
    "             ((df_test.kitch_sq == 1))&\n",
    "             (df_test.build_year < 10), 'build_year'] = round(df_train[(df_train.sub_area == \"Mitino\") &\n",
    "             ((df_train.kitch_sq == 1))&\n",
    "             (df_train.build_year > 10)].build_year.mean(),0)\n",
    "df_test.loc[(df_test.sub_area == \"Nagatinskij Zaton\") &\n",
    "             ((df_test.kitch_sq == 1))&\n",
    "             (df_test.build_year < 10), 'build_year'] = round(df_train[(df_train.sub_area == \"Nagatinskij Zaton\") &\n",
    "             ((df_train.kitch_sq == 1))&\n",
    "             (df_train.build_year > 10)].build_year.mean(),0)\n",
    "df_test.loc[(df_test.sub_area == \"Pokrovskoe Streshnevo\") &\n",
    "             ((df_test.kitch_sq == 1))&\n",
    "             (df_test.build_year < 10), 'build_year'] = round(df_train[(df_train.sub_area == \"Pokrovskoe Streshnevo\") &\n",
    "             ((df_train.kitch_sq == 1))&\n",
    "             (df_train.build_year > 10)].build_year.mean(),0)\n",
    "df_test.loc[(df_test.sub_area == \"Poselenie Pervomajskoe\") &\n",
    "             ((df_test.kitch_sq == 1))&\n",
    "             (df_test.build_year < 10), 'build_year'] = round(df_train[(df_train.sub_area == \"Poselenie Pervomajskoe\") &\n",
    "             ((df_train.kitch_sq == 1))&\n",
    "             (df_train.build_year > 10)].build_year.mean(),0)\n",
    "df_test.loc[(df_test.sub_area == \"Poselenie Voskresenskoe\") &\n",
    "             ((df_test.kitch_sq == 1)|(df_test.kitch_sq == 11))&\n",
    "             (df_test.build_year < 10), 'build_year'] = round(df_train[(df_train.sub_area == \"Poselenie Voskresenskoe\") &\n",
    "             ((df_train.kitch_sq == 11)|(df_train.kitch_sq == 1))&\n",
    "             (df_train.build_year > 10)].build_year.mean(),0)\n",
    "df_test.loc[(df_test.sub_area == \"Severnoe Butovo\") &\n",
    "             ((df_test.kitch_sq == 10))&\n",
    "             (df_test.build_year < 10), 'build_year'] = round(df_train[(df_train.sub_area == \"Severnoe Butovo\") &\n",
    "             ((df_train.kitch_sq == 10))&\n",
    "             (df_train.build_year > 10)].build_year.mean(),0)\n",
    "df_test.loc[(df_test.sub_area == \"Severnoe Tushino\") &\n",
    "             ((df_test.kitch_sq == 1))&\n",
    "             (df_test.build_year < 10), 'build_year'] = round(df_train[(df_train.sub_area == \"Severnoe Tushino\") &\n",
    "             ((df_train.kitch_sq == 1))&\n",
    "             (df_train.build_year > 10)].build_year.mean(),0)\n",
    "df_test.loc[(df_test.sub_area == \"Timirjazevskoe\") &\n",
    "             ((df_test.kitch_sq == 0))&\n",
    "             (df_test.build_year < 10), 'build_year'] = round(df_train[(df_train.sub_area == \"Timirjazevskoe\")&\n",
    "             (df_train.build_year > 10)].build_year.mean(),0)"
   ]
  },
  {
   "cell_type": "code",
   "execution_count": 50,
   "id": "e58395be-e4b3-471d-914c-a4ed51e00fcb",
   "metadata": {},
   "outputs": [],
   "source": [
    "df_train.loc[df_train['full_sq'] < 20, 'full_sq'] = np.NaN\n",
    "df_test.loc[df_test['full_sq'] < 20, 'full_sq'] = np.NaN"
   ]
  },
  {
   "cell_type": "code",
   "execution_count": 51,
   "id": "4e31c102-b324-48eb-9b5f-f9e92e1921e4",
   "metadata": {},
   "outputs": [],
   "source": [
    "df_train.loc[df_train['full_sq'] >= 1000, 'full_sq'] = np.NaN"
   ]
  },
  {
   "cell_type": "code",
   "execution_count": 52,
   "id": "4b156f9e-ab20-488e-91ee-14abdf98e8ce",
   "metadata": {},
   "outputs": [],
   "source": [
    "df_train = df_train[(df_train.full_sq.notna()) & (df_train.num_room.notna())& (df_train.kitch_sq.notna())]"
   ]
  },
  {
   "cell_type": "code",
   "execution_count": 53,
   "id": "9527f4b1-98e9-4238-ac31-cf67da78380c",
   "metadata": {},
   "outputs": [],
   "source": [
    "df_train.reset_index(drop=True, inplace=True)"
   ]
  },
  {
   "cell_type": "code",
   "execution_count": 54,
   "id": "f9e32c78-8b87-4a21-b23a-6f09b37d8964",
   "metadata": {},
   "outputs": [],
   "source": [
    "df_train.loc[df_train['life_sq'] <= 1, 'life_sq'] = np.NaN\n",
    "df_test.loc[df_test['life_sq'] <= 1, 'life_sq'] = np.NaN\n",
    "df_train.loc[df_train['life_sq'].isna(), 'life_sq'] = df_train.full_sq -df_train.kitch_sq\n",
    "df_test.loc[df_test['life_sq'].isna(), 'life_sq'] = df_test.full_sq -df_test.kitch_sq\n",
    "df_test.loc[df_test['kitch_sq'].isna(), 'kitch_sq'] = df_test.full_sq -df_test.life_sq\n",
    "df_test.loc[df_test['full_sq'].isna(), 'full_sq'] = df_test.kitch_sq +df_test.life_sq"
   ]
  },
  {
   "cell_type": "code",
   "execution_count": 55,
   "id": "59009f7c-f79b-49c0-890e-cf0313cecae1",
   "metadata": {},
   "outputs": [],
   "source": [
    "df_train['ls_incorr'] = df_train.apply(lambda x: 1 if ((x.life_sq > x.full_sq) | (x.life_sq == 0)) else 0, axis=1)\n",
    "df_train['life_sq'] = df_train.apply(lambda x: x.full_sq  - x.kitch_sq if x.ls_incorr else x.life_sq, axis=1)"
   ]
  },
  {
   "cell_type": "code",
   "execution_count": 56,
   "id": "238aad79-6e9d-4f46-8191-3bd302eef930",
   "metadata": {},
   "outputs": [],
   "source": [
    "df_test['ls_incorr'] = df_test.apply(lambda x: 1 if ((x.life_sq > x.full_sq) | (x.life_sq == 0)) else 0, axis=1)\n",
    "df_test['life_sq'] = df_test.apply(lambda x: x.full_sq  - x.kitch_sq if x.ls_incorr else x.life_sq, axis=1)"
   ]
  },
  {
   "cell_type": "code",
   "execution_count": 57,
   "id": "c8ef1a21-c26c-4cb1-a8c5-14df33a809d8",
   "metadata": {},
   "outputs": [],
   "source": [
    "df_train.drop(['ls_incorr'], axis=1, inplace=True)\n",
    "df_test.drop(['ls_incorr'], axis=1, inplace=True)"
   ]
  },
  {
   "cell_type": "code",
   "execution_count": 58,
   "id": "a58d60d7-c014-40c7-b917-951257916001",
   "metadata": {},
   "outputs": [],
   "source": [
    "df_train['ks_incorr'] = df_train.apply(lambda x: 1 if x.kitch_sq > x.full_sq else 0, axis=1)\n",
    "df_train['kitch_sq'] = df_train.apply(lambda x: x.full_sq - x.life_sq if x.ks_incorr else x.kitch_sq, axis=1)"
   ]
  },
  {
   "cell_type": "code",
   "execution_count": 59,
   "id": "54a59e7c-1013-4218-b762-3062a6027b5a",
   "metadata": {},
   "outputs": [],
   "source": [
    "df_test['ks_incorr'] = df_test.apply(lambda x: 1 if x.kitch_sq > x.full_sq else 0, axis=1)\n",
    "df_test['kitch_sq'] = df_test.apply(lambda x: x.full_sq - x.life_sq if x.ks_incorr else x.kitch_sq, axis=1)"
   ]
  },
  {
   "cell_type": "code",
   "execution_count": 60,
   "id": "216db52a-0ac6-4f6f-b805-e5f22aeb4868",
   "metadata": {},
   "outputs": [],
   "source": [
    "df_train.drop(['ks_incorr'], axis=1, inplace=True)\n",
    "df_test.drop(['ks_incorr'], axis=1, inplace=True)"
   ]
  },
  {
   "cell_type": "code",
   "execution_count": 61,
   "id": "7b09ebce-abd6-44bd-9b84-0d225167ea67",
   "metadata": {},
   "outputs": [],
   "source": [
    "df_train.loc[df_train.floor == 0, 'floor'] = 1\n",
    "df_test.loc[df_test.floor == 0, 'floor'] = 1"
   ]
  },
  {
   "cell_type": "code",
   "execution_count": 62,
   "id": "dc2b1010-63b6-4f61-8cfc-c52fbaf8f331",
   "metadata": {},
   "outputs": [],
   "source": [
    "df_train.loc[df_train.max_floor == 0, 'max_floor'] = df_train.floor\n",
    "df_test.loc[df_test.max_floor == 0, 'max_floor'] = df_train.floor"
   ]
  },
  {
   "cell_type": "code",
   "execution_count": 63,
   "id": "ceeea44a-2f88-4ab9-8ca0-56864cccad21",
   "metadata": {},
   "outputs": [],
   "source": [
    "df_train.loc[df_train.max_floor < df_train.floor, 'floor'] = df_train.max_floor\n",
    "df_test.loc[df_test.max_floor < df_test.floor, 'floor'] = df_test.max_floor"
   ]
  },
  {
   "cell_type": "code",
   "execution_count": 64,
   "id": "c4ff91b4-4a48-456f-8c11-66dbd333d78c",
   "metadata": {},
   "outputs": [],
   "source": [
    "df_test.floor = df_test.floor.fillna(round(df_train.groupby(['sub_area'])['floor'].transform('mean'), 0))"
   ]
  },
  {
   "cell_type": "code",
   "execution_count": 65,
   "id": "e4aa5248-5b41-4490-b4a1-627f68d120aa",
   "metadata": {},
   "outputs": [],
   "source": [
    "df_test.loc[df_test.max_floor.isna(), 'max_floor'] = df_test.floor"
   ]
  },
  {
   "cell_type": "code",
   "execution_count": 66,
   "id": "bc3ad658-b32b-445d-80aa-e66da6530f7e",
   "metadata": {},
   "outputs": [],
   "source": [
    "df_train.loc[df_train.state > 4, 'state'] = np.NaN\n",
    "df_test.loc[df_test.state > 4, 'state'] = np.NaN"
   ]
  },
  {
   "cell_type": "code",
   "execution_count": 67,
   "id": "a67b04ac-9604-4be4-8c04-ff99853ef5b4",
   "metadata": {},
   "outputs": [],
   "source": [
    "df_train.loc[df_train.index == 9322, 'num_room'] = round(df_train.life_sq/10,0)\n",
    "df_train.loc[df_train.index == 82, 'num_room'] = round(df_train.life_sq/10,0)\n",
    "df_train.loc[df_train.index == 8309, 'num_room'] = round(df_train.life_sq/10,0)\n",
    "df_train.loc[df_train.index == 8590, 'num_room'] = round(df_train.life_sq/10,0)\n",
    "df_train.loc[df_train.index == 4924, 'num_room'] = 4\n",
    "df_train.loc[df_train.index == 8678, 'num_room'] = 1\n",
    "df_train.loc[df_train.index == 9640, 'num_room'] = 6\n",
    "df_train.loc[df_train.index == 11006, 'num_room'] = 1\n",
    "df_train.loc[df_train.index == 11057, 'num_room'] = 2\n",
    "df_train.loc[df_train.index == 13316, 'num_room'] = 4\n",
    "df_test.loc[df_test.index == 61, 'num_room'] = 3\n",
    "df_test.loc[df_test.index == 2585, 'num_room'] = 2\n",
    "df_test.loc[df_test.index == 2873, 'num_room'] = 2"
   ]
  },
  {
   "cell_type": "code",
   "execution_count": 68,
   "id": "eb00acf6-5e24-4504-92ee-acdda14e6843",
   "metadata": {},
   "outputs": [],
   "source": [
    "gr_df_t = df_train.groupby(['sub_area'])['full_all'].nunique().reset_index().sort_values('full_all')"
   ]
  },
  {
   "cell_type": "code",
   "execution_count": 69,
   "id": "85e5c93c-351f-483b-b0f0-813b265cb1e7",
   "metadata": {},
   "outputs": [],
   "source": [
    "gr_df_test = df_test.groupby(['sub_area'])['full_all'].nunique().reset_index().sort_values('full_all')"
   ]
  },
  {
   "cell_type": "code",
   "execution_count": 70,
   "id": "916a6c47-a1b3-4701-9be5-3924887e5988",
   "metadata": {},
   "outputs": [],
   "source": [
    "df_train = df_train.merge(df_macro, on='timestamp')[['id', 'timestamp', 'full_sq',\n",
    "                                          'life_sq', 'kitch_sq', 'num_room',\n",
    "                                          'floor', 'max_floor', 'state',\n",
    "                                          'material', 'build_year', 'full_all',\n",
    "                                          'sub_area', 'salary', 'fixed_basket',\n",
    "                                          'rent_price_1room_eco',\n",
    "                                          'rent_price_2room_eco',\n",
    "                                          'rent_price_3room_eco',\n",
    "                                          'average_life_exp', 'price_doc']]\n",
    "df_test = df_test.merge(df_macro, on='timestamp', how='left')[['id', 'timestamp', 'full_sq',\n",
    "                                          'life_sq', 'kitch_sq', 'num_room',\n",
    "                                          'floor', 'max_floor', 'state',\n",
    "                                          'material', 'build_year', 'full_all',\n",
    "                                          'sub_area', 'salary', 'fixed_basket',\n",
    "                                          'rent_price_1room_eco',\n",
    "                                          'rent_price_2room_eco',\n",
    "                                          'rent_price_3room_eco',\n",
    "                                          'average_life_exp']]"
   ]
  },
  {
   "cell_type": "code",
   "execution_count": 71,
   "id": "a243e402-27e1-40bf-b598-ff21fe4de5d9",
   "metadata": {},
   "outputs": [
    {
     "name": "stdout",
     "output_type": "stream",
     "text": [
      "<class 'pandas.core.frame.DataFrame'>\n",
      "RangeIndex: 13876 entries, 0 to 13875\n",
      "Data columns (total 20 columns):\n",
      " #   Column                Non-Null Count  Dtype         \n",
      "---  ------                --------------  -----         \n",
      " 0   id                    13876 non-null  int64         \n",
      " 1   timestamp             13876 non-null  datetime64[ns]\n",
      " 2   full_sq               13876 non-null  float64       \n",
      " 3   life_sq               13876 non-null  float64       \n",
      " 4   kitch_sq              13876 non-null  float64       \n",
      " 5   num_room              13876 non-null  float64       \n",
      " 6   floor                 13876 non-null  float64       \n",
      " 7   max_floor             13876 non-null  float64       \n",
      " 8   state                 12306 non-null  float64       \n",
      " 9   material              13876 non-null  float64       \n",
      " 10  build_year            13413 non-null  float64       \n",
      " 11  full_all              13876 non-null  int64         \n",
      " 12  sub_area              13876 non-null  object        \n",
      " 13  salary                13876 non-null  float64       \n",
      " 14  fixed_basket          13876 non-null  float64       \n",
      " 15  rent_price_1room_eco  13876 non-null  float64       \n",
      " 16  rent_price_2room_eco  13876 non-null  float64       \n",
      " 17  rent_price_3room_eco  13876 non-null  float64       \n",
      " 18  average_life_exp      13876 non-null  float64       \n",
      " 19  price_doc             13876 non-null  int64         \n",
      "dtypes: datetime64[ns](1), float64(15), int64(3), object(1)\n",
      "memory usage: 2.1+ MB\n"
     ]
    }
   ],
   "source": [
    "df_train.info()"
   ]
  },
  {
   "cell_type": "code",
   "execution_count": 72,
   "id": "55bf1aca-8e8f-40a5-9755-2e2b6b1f14f7",
   "metadata": {},
   "outputs": [
    {
     "name": "stdout",
     "output_type": "stream",
     "text": [
      "<class 'pandas.core.frame.DataFrame'>\n",
      "RangeIndex: 3774 entries, 0 to 3773\n",
      "Data columns (total 19 columns):\n",
      " #   Column                Non-Null Count  Dtype         \n",
      "---  ------                --------------  -----         \n",
      " 0   id                    3774 non-null   int64         \n",
      " 1   timestamp             3774 non-null   datetime64[ns]\n",
      " 2   full_sq               3767 non-null   float64       \n",
      " 3   life_sq               3717 non-null   float64       \n",
      " 4   kitch_sq              3714 non-null   float64       \n",
      " 5   num_room              3507 non-null   float64       \n",
      " 6   floor                 3774 non-null   float64       \n",
      " 7   max_floor             3774 non-null   float64       \n",
      " 8   state                 3139 non-null   float64       \n",
      " 9   material              3507 non-null   float64       \n",
      " 10  build_year            3391 non-null   float64       \n",
      " 11  full_all              3774 non-null   int64         \n",
      " 12  sub_area              3774 non-null   object        \n",
      " 13  salary                3774 non-null   float64       \n",
      " 14  fixed_basket          3774 non-null   float64       \n",
      " 15  rent_price_1room_eco  3774 non-null   float64       \n",
      " 16  rent_price_2room_eco  3774 non-null   float64       \n",
      " 17  rent_price_3room_eco  3774 non-null   float64       \n",
      " 18  average_life_exp      3774 non-null   float64       \n",
      "dtypes: datetime64[ns](1), float64(15), int64(2), object(1)\n",
      "memory usage: 560.3+ KB\n"
     ]
    }
   ],
   "source": [
    "df_test.info()"
   ]
  },
  {
   "cell_type": "code",
   "execution_count": 73,
   "id": "c056b6c0-9c7e-45da-8765-c7cbec857bd8",
   "metadata": {},
   "outputs": [],
   "source": [
    "df_train.to_csv('../../data/baselines/train.csv', index=False)\n",
    "df_test.to_csv('/home/user1/project_mlops/MLOPS_course/data/baselines/test.csv', index=False)\n",
    "df_macro.to_csv('/home/user1/project_mlops/MLOPS_course/data/baselines/macro.csv', index=False)"
   ]
  },
  {
   "cell_type": "code",
   "execution_count": null,
   "id": "0ade7b96-2727-4cef-9819-8f0e1464fc17",
   "metadata": {},
   "outputs": [],
   "source": []
  }
 ],
 "metadata": {
  "kernelspec": {
   "display_name": "Python 3 (ipykernel)",
   "language": "python",
   "name": "python3"
  },
  "language_info": {
   "codemirror_mode": {
    "name": "ipython",
    "version": 3
   },
   "file_extension": ".py",
   "mimetype": "text/x-python",
   "name": "python",
   "nbconvert_exporter": "python",
   "pygments_lexer": "ipython3",
   "version": "3.9.2"
  }
 },
 "nbformat": 4,
 "nbformat_minor": 5
}
